{
  "nbformat": 4,
  "nbformat_minor": 0,
  "metadata": {
    "colab": {
      "provenance": []
    },
    "kernelspec": {
      "name": "python3",
      "display_name": "Python 3"
    },
    "language_info": {
      "name": "python"
    }
  },
  "cells": [
    {
      "cell_type": "code",
      "execution_count": 2,
      "metadata": {
        "id": "2TLyk4WHE8hb"
      },
      "outputs": [],
      "source": [
        "import numpy as np"
      ]
    },
    {
      "cell_type": "code",
      "source": [
        "# Generating 6 random numbers between 0 and 1\n",
        "x = np.random.random(6)\n",
        "x"
      ],
      "metadata": {
        "colab": {
          "base_uri": "https://localhost:8080/"
        },
        "id": "pQe07_mHXlNn",
        "outputId": "b5bceff1-e77d-48f3-f94d-16c132fdfc18"
      },
      "execution_count": 3,
      "outputs": [
        {
          "output_type": "execute_result",
          "data": {
            "text/plain": [
              "array([0.93702908, 0.41556371, 0.62831745, 0.22021926, 0.82077743,\n",
              "       0.52272994])"
            ]
          },
          "metadata": {},
          "execution_count": 3
        }
      ]
    },
    {
      "cell_type": "code",
      "source": [
        "# Generating random numbers between 0 and 1 in 2*3 matrix\n",
        "x = np.random.random([2,3])\n",
        "x"
      ],
      "metadata": {
        "colab": {
          "base_uri": "https://localhost:8080/"
        },
        "id": "ve8Ko2hOXj8v",
        "outputId": "7514d6b7-7fa3-4ff8-d42d-7541e5fa0224"
      },
      "execution_count": 5,
      "outputs": [
        {
          "output_type": "execute_result",
          "data": {
            "text/plain": [
              "array([[0.90079974, 0.23222773, 0.76730724],\n",
              "       [0.08288293, 0.60248384, 0.35878058]])"
            ]
          },
          "metadata": {},
          "execution_count": 5
        }
      ]
    },
    {
      "cell_type": "code",
      "source": [
        "y = x*500\n",
        "y"
      ],
      "metadata": {
        "colab": {
          "base_uri": "https://localhost:8080/"
        },
        "id": "mDx2OdtnXjom",
        "outputId": "016b0287-776f-42f0-b6c1-fb3db963b774"
      },
      "execution_count": 6,
      "outputs": [
        {
          "output_type": "execute_result",
          "data": {
            "text/plain": [
              "array([[450.3998683 , 116.11386582, 383.65361823],\n",
              "       [ 41.44146457, 301.24192036, 179.39028965]])"
            ]
          },
          "metadata": {},
          "execution_count": 6
        }
      ]
    },
    {
      "cell_type": "code",
      "source": [
        "# Generating a random number between 0-20\n",
        "x = np.random.randint(20)\n",
        "x"
      ],
      "metadata": {
        "colab": {
          "base_uri": "https://localhost:8080/"
        },
        "id": "n5u9nsb7FQlX",
        "outputId": "73e01bec-11af-46df-9966-624436c880c7"
      },
      "execution_count": 7,
      "outputs": [
        {
          "output_type": "execute_result",
          "data": {
            "text/plain": [
              "18"
            ]
          },
          "metadata": {},
          "execution_count": 7
        }
      ]
    },
    {
      "cell_type": "code",
      "source": [
        "# Generating 3 random numbers between 0-20\n",
        "x = np.random.randint(20, size=3)\n",
        "x"
      ],
      "metadata": {
        "colab": {
          "base_uri": "https://localhost:8080/"
        },
        "id": "F1kef0SyFbK4",
        "outputId": "b950a973-37f5-4985-e938-bab330e2f562"
      },
      "execution_count": 8,
      "outputs": [
        {
          "output_type": "execute_result",
          "data": {
            "text/plain": [
              "array([19, 18,  1])"
            ]
          },
          "metadata": {},
          "execution_count": 8
        }
      ]
    },
    {
      "cell_type": "code",
      "source": [
        "# Generating 2 random numbers between 10-20\n",
        "x = np.random.randint(10,20,size=2)\n",
        "x"
      ],
      "metadata": {
        "colab": {
          "base_uri": "https://localhost:8080/"
        },
        "id": "DX126qAVFgyD",
        "outputId": "129f1648-648b-42f4-85fa-48fa8241ed76"
      },
      "execution_count": 9,
      "outputs": [
        {
          "output_type": "execute_result",
          "data": {
            "text/plain": [
              "array([10, 15])"
            ]
          },
          "metadata": {},
          "execution_count": 9
        }
      ]
    },
    {
      "cell_type": "code",
      "source": [
        "# Generating random number between 23-330 in a 2*3 matrix (Not including 330)\n",
        "x = np.random.randint(23,330,size=(2,3))\n",
        "print(x, x.max())"
      ],
      "metadata": {
        "colab": {
          "base_uri": "https://localhost:8080/"
        },
        "id": "UqGNU5PjFmfs",
        "outputId": "dda11397-6f0c-46df-9ddd-2df7c934f50a"
      },
      "execution_count": 18,
      "outputs": [
        {
          "output_type": "stream",
          "name": "stdout",
          "text": [
            "[[268 142 167]\n",
            " [273 142 248]] 273\n"
          ]
        }
      ]
    },
    {
      "cell_type": "code",
      "source": [
        "#  Generating 1s in a 5*5 matrix\n",
        "x = np.ones((5,5))\n",
        "x"
      ],
      "metadata": {
        "colab": {
          "base_uri": "https://localhost:8080/"
        },
        "id": "MwRabjenFzlJ",
        "outputId": "12e9be1b-54c0-4854-e0fd-e747888b5e7c"
      },
      "execution_count": 28,
      "outputs": [
        {
          "output_type": "execute_result",
          "data": {
            "text/plain": [
              "array([[1., 1., 1., 1., 1.],\n",
              "       [1., 1., 1., 1., 1.],\n",
              "       [1., 1., 1., 1., 1.],\n",
              "       [1., 1., 1., 1., 1.],\n",
              "       [1., 1., 1., 1., 1.]])"
            ]
          },
          "metadata": {},
          "execution_count": 28
        }
      ]
    },
    {
      "cell_type": "code",
      "source": [
        "# Changing the inside to 0s of a 5*5 matrix containing 1s\n",
        "n1 = 5 \n",
        "n2 = 5\n",
        "for i in range(0,n1):\n",
        "  for j in range(0,n2):\n",
        "    if(i==0 or j==0 or i==n1-1 or j==n2-1):\n",
        "      pass\n",
        "    else:\n",
        "      x[i][j]=0\n",
        "x\n",
        "# Positions - x[i][j], first position - x[0][0], second position - x[0][1] & so on\n",
        "# First row i is 0, last row i is 4 (n1-1), first column j is 0, last column j is 4 (n2-1)"
      ],
      "metadata": {
        "colab": {
          "base_uri": "https://localhost:8080/"
        },
        "id": "CoE0fT10HI2G",
        "outputId": "22a7b955-b1e5-419e-adf0-816d5cddc6c0"
      },
      "execution_count": 30,
      "outputs": [
        {
          "output_type": "execute_result",
          "data": {
            "text/plain": [
              "array([[1., 1., 1., 1., 1.],\n",
              "       [1., 0., 0., 0., 1.],\n",
              "       [1., 0., 0., 0., 1.],\n",
              "       [1., 0., 0., 0., 1.],\n",
              "       [1., 1., 1., 1., 1.]])"
            ]
          },
          "metadata": {},
          "execution_count": 30
        }
      ]
    },
    {
      "cell_type": "code",
      "source": [
        "# Selecting all columns & rows between 1 and -1 and posting the value 66\n",
        "x = np.ones((5,5))\n",
        "x[1:-1] = 66\n",
        "x"
      ],
      "metadata": {
        "colab": {
          "base_uri": "https://localhost:8080/"
        },
        "id": "NlkJIXsic1LE",
        "outputId": "76f69a0a-ad42-4ce7-a73a-7323263d680e"
      },
      "execution_count": 37,
      "outputs": [
        {
          "output_type": "execute_result",
          "data": {
            "text/plain": [
              "array([[ 1.,  1.,  1.,  1.,  1.],\n",
              "       [66., 66., 66., 66., 66.],\n",
              "       [66., 66., 66., 66., 66.],\n",
              "       [66., 66., 66., 66., 66.],\n",
              "       [ 1.,  1.,  1.,  1.,  1.]])"
            ]
          },
          "metadata": {},
          "execution_count": 37
        }
      ]
    },
    {
      "cell_type": "code",
      "source": [
        "# Increasing the pad_width by 1 and filling it with values 89\n",
        "y=np.pad(x,pad_width=1,mode=\"constant\",constant_values=89)\n",
        "y"
      ],
      "metadata": {
        "colab": {
          "base_uri": "https://localhost:8080/"
        },
        "id": "SJm9tAWQNqID",
        "outputId": "90a1d85c-d8b5-4032-a17c-554e8201038d"
      },
      "execution_count": 39,
      "outputs": [
        {
          "output_type": "execute_result",
          "data": {
            "text/plain": [
              "array([[89., 89., 89., 89., 89., 89., 89.],\n",
              "       [89.,  1.,  1.,  1.,  1.,  1., 89.],\n",
              "       [89., 66., 66., 66., 66., 66., 89.],\n",
              "       [89., 66., 66., 66., 66., 66., 89.],\n",
              "       [89., 66., 66., 66., 66., 66., 89.],\n",
              "       [89.,  1.,  1.,  1.,  1.,  1., 89.],\n",
              "       [89., 89., 89., 89., 89., 89., 89.]])"
            ]
          },
          "metadata": {},
          "execution_count": 39
        }
      ]
    },
    {
      "cell_type": "code",
      "source": [
        "# Increasing the pad_width by 1 and duplicating it with values in the edge\n",
        "y=np.pad(x,pad_width=1,mode=\"edge\")\n",
        "y"
      ],
      "metadata": {
        "colab": {
          "base_uri": "https://localhost:8080/"
        },
        "id": "m3Q2j3GyOlrP",
        "outputId": "e3161065-1c81-49ef-f9d2-0edae053ab81"
      },
      "execution_count": 41,
      "outputs": [
        {
          "output_type": "execute_result",
          "data": {
            "text/plain": [
              "array([[ 1.,  1.,  1.,  1.,  1.,  1.,  1.],\n",
              "       [ 1.,  1.,  1.,  1.,  1.,  1.,  1.],\n",
              "       [66., 66., 66., 66., 66., 66., 66.],\n",
              "       [66., 66., 66., 66., 66., 66., 66.],\n",
              "       [66., 66., 66., 66., 66., 66., 66.],\n",
              "       [ 1.,  1.,  1.,  1.,  1.,  1.,  1.],\n",
              "       [ 1.,  1.,  1.,  1.,  1.,  1.,  1.]])"
            ]
          },
          "metadata": {},
          "execution_count": 41
        }
      ]
    },
    {
      "cell_type": "code",
      "source": [
        "x = np.random.randint(20, size = (2,3))\n",
        "x"
      ],
      "metadata": {
        "colab": {
          "base_uri": "https://localhost:8080/"
        },
        "id": "U5Ch8fjVPIDl",
        "outputId": "99c8827d-763e-4417-c5c8-94cbe186f986"
      },
      "execution_count": 47,
      "outputs": [
        {
          "output_type": "execute_result",
          "data": {
            "text/plain": [
              "array([[ 8,  2,  7],\n",
              "       [ 8,  7, 16]])"
            ]
          },
          "metadata": {},
          "execution_count": 47
        }
      ]
    },
    {
      "cell_type": "code",
      "source": [
        "# Increasing the pad_width by 1 and filling the maximum value of each row/column in the sides\n",
        "y = np.pad(x,pad_width=1,mode=\"maximum\")\n",
        "y\n",
        "#Maximum value on each row will be placed on the pad"
      ],
      "metadata": {
        "colab": {
          "base_uri": "https://localhost:8080/"
        },
        "id": "3nzCn-HOe_S-",
        "outputId": "46f665f0-5eb7-43a7-d40d-e745097cdc08"
      },
      "execution_count": 48,
      "outputs": [
        {
          "output_type": "execute_result",
          "data": {
            "text/plain": [
              "array([[16,  8,  7, 16, 16],\n",
              "       [ 8,  8,  2,  7,  8],\n",
              "       [16,  8,  7, 16, 16],\n",
              "       [16,  8,  7, 16, 16]])"
            ]
          },
          "metadata": {},
          "execution_count": 48
        }
      ]
    },
    {
      "cell_type": "code",
      "source": [
        "# Increasing the pad_width by 2 and filling the minimum value of each row/column in the sides\n",
        "y=np.pad(x,pad_width=2,mode=\"minimum\")\n",
        "y"
      ],
      "metadata": {
        "colab": {
          "base_uri": "https://localhost:8080/"
        },
        "id": "FvU_aWQ0P1Ht",
        "outputId": "12dc960f-3aba-45e1-f573-c93273ac2771"
      },
      "execution_count": 49,
      "outputs": [
        {
          "output_type": "execute_result",
          "data": {
            "text/plain": [
              "array([[ 2,  2,  8,  2,  7,  2,  2],\n",
              "       [ 2,  2,  8,  2,  7,  2,  2],\n",
              "       [ 2,  2,  8,  2,  7,  2,  2],\n",
              "       [ 7,  7,  8,  7, 16,  7,  7],\n",
              "       [ 2,  2,  8,  2,  7,  2,  2],\n",
              "       [ 2,  2,  8,  2,  7,  2,  2]])"
            ]
          },
          "metadata": {},
          "execution_count": 49
        }
      ]
    },
    {
      "cell_type": "code",
      "source": [
        "y=np.pad(x,pad_width=1,mode=\"reflect\")\n",
        "y"
      ],
      "metadata": {
        "id": "GOHnVBviQN6M",
        "colab": {
          "base_uri": "https://localhost:8080/"
        },
        "outputId": "ca651d9d-8cbd-4ed7-a991-661b75589065"
      },
      "execution_count": 51,
      "outputs": [
        {
          "output_type": "execute_result",
          "data": {
            "text/plain": [
              "array([[ 7,  8,  7, 16,  7],\n",
              "       [ 2,  8,  2,  7,  2],\n",
              "       [ 7,  8,  7, 16,  7],\n",
              "       [ 2,  8,  2,  7,  2]])"
            ]
          },
          "metadata": {},
          "execution_count": 51
        }
      ]
    },
    {
      "cell_type": "code",
      "source": [
        "y=np.pad(x,pad_width=1,mode=\"symmetric\")\n",
        "y"
      ],
      "metadata": {
        "colab": {
          "base_uri": "https://localhost:8080/"
        },
        "id": "JvTuSjjjSqDh",
        "outputId": "9759d653-76cd-4456-a690-461c5874af4d"
      },
      "execution_count": 52,
      "outputs": [
        {
          "output_type": "execute_result",
          "data": {
            "text/plain": [
              "array([[ 8,  8,  2,  7,  7],\n",
              "       [ 8,  8,  2,  7,  7],\n",
              "       [ 8,  8,  7, 16, 16],\n",
              "       [ 8,  8,  7, 16, 16]])"
            ]
          },
          "metadata": {},
          "execution_count": 52
        }
      ]
    },
    {
      "cell_type": "code",
      "source": [
        "y=np.pad(x,pad_width=1,mode=\"wrap\")\n",
        "y\n",
        "# Like wrapping a paper"
      ],
      "metadata": {
        "colab": {
          "base_uri": "https://localhost:8080/"
        },
        "id": "W9E3_cn0TYbG",
        "outputId": "9528fed1-46db-4cbd-e355-a76c0be9c9ad"
      },
      "execution_count": 53,
      "outputs": [
        {
          "output_type": "execute_result",
          "data": {
            "text/plain": [
              "array([[16,  8,  7, 16,  8],\n",
              "       [ 7,  8,  2,  7,  8],\n",
              "       [16,  8,  7, 16,  8],\n",
              "       [ 7,  8,  2,  7,  8]])"
            ]
          },
          "metadata": {},
          "execution_count": 53
        }
      ]
    },
    {
      "cell_type": "code",
      "source": [
        "y=np.pad(x,pad_width=1,mode=\"linear_ramp\")\n",
        "y"
      ],
      "metadata": {
        "colab": {
          "base_uri": "https://localhost:8080/"
        },
        "id": "LAGzCbnXU7F6",
        "outputId": "dac69aa3-ed3a-4b52-c62b-3d3e9396946b"
      },
      "execution_count": 54,
      "outputs": [
        {
          "output_type": "execute_result",
          "data": {
            "text/plain": [
              "array([[ 0,  0,  0,  0,  0],\n",
              "       [ 0,  8,  2,  7,  0],\n",
              "       [ 0,  8,  7, 16,  0],\n",
              "       [ 0,  0,  0,  0,  0]])"
            ]
          },
          "metadata": {},
          "execution_count": 54
        }
      ]
    },
    {
      "cell_type": "code",
      "source": [
        "# Posting 50 values with equal intervals between 0 & 50\n",
        "x=np.linspace(0,50,50)\n",
        "x"
      ],
      "metadata": {
        "colab": {
          "base_uri": "https://localhost:8080/"
        },
        "id": "Mw5iMUiVWp85",
        "outputId": "b525cc3a-87bb-4873-b108-67fa45122dc8"
      },
      "execution_count": 59,
      "outputs": [
        {
          "output_type": "execute_result",
          "data": {
            "text/plain": [
              "array([ 0.        ,  1.02040816,  2.04081633,  3.06122449,  4.08163265,\n",
              "        5.10204082,  6.12244898,  7.14285714,  8.16326531,  9.18367347,\n",
              "       10.20408163, 11.2244898 , 12.24489796, 13.26530612, 14.28571429,\n",
              "       15.30612245, 16.32653061, 17.34693878, 18.36734694, 19.3877551 ,\n",
              "       20.40816327, 21.42857143, 22.44897959, 23.46938776, 24.48979592,\n",
              "       25.51020408, 26.53061224, 27.55102041, 28.57142857, 29.59183673,\n",
              "       30.6122449 , 31.63265306, 32.65306122, 33.67346939, 34.69387755,\n",
              "       35.71428571, 36.73469388, 37.75510204, 38.7755102 , 39.79591837,\n",
              "       40.81632653, 41.83673469, 42.85714286, 43.87755102, 44.89795918,\n",
              "       45.91836735, 46.93877551, 47.95918367, 48.97959184, 50.        ])"
            ]
          },
          "metadata": {},
          "execution_count": 59
        }
      ]
    },
    {
      "cell_type": "code",
      "source": [
        "x= np.linspace(1,50,50)\n",
        "x"
      ],
      "metadata": {
        "colab": {
          "base_uri": "https://localhost:8080/"
        },
        "id": "I55ywXs-W54k",
        "outputId": "311323dc-f69d-4547-e381-38692904b7c1"
      },
      "execution_count": 60,
      "outputs": [
        {
          "output_type": "execute_result",
          "data": {
            "text/plain": [
              "array([ 1.,  2.,  3.,  4.,  5.,  6.,  7.,  8.,  9., 10., 11., 12., 13.,\n",
              "       14., 15., 16., 17., 18., 19., 20., 21., 22., 23., 24., 25., 26.,\n",
              "       27., 28., 29., 30., 31., 32., 33., 34., 35., 36., 37., 38., 39.,\n",
              "       40., 41., 42., 43., 44., 45., 46., 47., 48., 49., 50.])"
            ]
          },
          "metadata": {},
          "execution_count": 60
        }
      ]
    },
    {
      "cell_type": "code",
      "source": [
        "# Computing the product of two vectors\n",
        "x = np.outer([2,3],[4,9])\n",
        "x\n",
        "# 2*4 and 2*9 in first row | 3*4 and 3*9 in second row"
      ],
      "metadata": {
        "colab": {
          "base_uri": "https://localhost:8080/"
        },
        "id": "Wpq2SCVTXTiM",
        "outputId": "437a3f12-5183-4d7a-b3bb-a8254bff2a30"
      },
      "execution_count": 61,
      "outputs": [
        {
          "output_type": "execute_result",
          "data": {
            "text/plain": [
              "array([[ 8, 18],\n",
              "       [12, 27]])"
            ]
          },
          "metadata": {},
          "execution_count": 61
        }
      ]
    },
    {
      "cell_type": "code",
      "source": [
        "x = np.outer([[2,3],[1,5]],[[2,5],[4,9]])\n",
        "x"
      ],
      "metadata": {
        "colab": {
          "base_uri": "https://localhost:8080/"
        },
        "id": "F9ebgaX9Xkq5",
        "outputId": "9cdbe282-0187-49d0-cbf7-465ea687eb6f"
      },
      "execution_count": 63,
      "outputs": [
        {
          "output_type": "execute_result",
          "data": {
            "text/plain": [
              "array([[ 4, 10,  8, 18],\n",
              "       [ 6, 15, 12, 27],\n",
              "       [ 2,  5,  4,  9],\n",
              "       [10, 25, 20, 45]])"
            ]
          },
          "metadata": {},
          "execution_count": 63
        }
      ]
    },
    {
      "cell_type": "code",
      "source": [
        "x=np.arange(1,90)\n",
        "x"
      ],
      "metadata": {
        "colab": {
          "base_uri": "https://localhost:8080/"
        },
        "id": "-xORtKDSZNKj",
        "outputId": "d53b2ba2-dd3b-48bd-a8ae-c67812cfb3fd"
      },
      "execution_count": 64,
      "outputs": [
        {
          "output_type": "execute_result",
          "data": {
            "text/plain": [
              "array([ 1,  2,  3,  4,  5,  6,  7,  8,  9, 10, 11, 12, 13, 14, 15, 16, 17,\n",
              "       18, 19, 20, 21, 22, 23, 24, 25, 26, 27, 28, 29, 30, 31, 32, 33, 34,\n",
              "       35, 36, 37, 38, 39, 40, 41, 42, 43, 44, 45, 46, 47, 48, 49, 50, 51,\n",
              "       52, 53, 54, 55, 56, 57, 58, 59, 60, 61, 62, 63, 64, 65, 66, 67, 68,\n",
              "       69, 70, 71, 72, 73, 74, 75, 76, 77, 78, 79, 80, 81, 82, 83, 84, 85,\n",
              "       86, 87, 88, 89])"
            ]
          },
          "metadata": {},
          "execution_count": 64
        }
      ]
    },
    {
      "cell_type": "code",
      "source": [
        "# Splitting the array with 89 values into 4\n",
        "x_split = np.array_split(x,4)\n",
        "x_split\n",
        "# Total 89 values first 22 values to each row and then remaining added to the first row"
      ],
      "metadata": {
        "colab": {
          "base_uri": "https://localhost:8080/"
        },
        "id": "cyiq4xVKZgkB",
        "outputId": "be800ee3-90ea-42dd-c5f9-42a16c0f8476"
      },
      "execution_count": 65,
      "outputs": [
        {
          "output_type": "execute_result",
          "data": {
            "text/plain": [
              "[array([ 1,  2,  3,  4,  5,  6,  7,  8,  9, 10, 11, 12, 13, 14, 15, 16, 17,\n",
              "        18, 19, 20, 21, 22, 23]),\n",
              " array([24, 25, 26, 27, 28, 29, 30, 31, 32, 33, 34, 35, 36, 37, 38, 39, 40,\n",
              "        41, 42, 43, 44, 45]),\n",
              " array([46, 47, 48, 49, 50, 51, 52, 53, 54, 55, 56, 57, 58, 59, 60, 61, 62,\n",
              "        63, 64, 65, 66, 67]),\n",
              " array([68, 69, 70, 71, 72, 73, 74, 75, 76, 77, 78, 79, 80, 81, 82, 83, 84,\n",
              "        85, 86, 87, 88, 89])]"
            ]
          },
          "metadata": {},
          "execution_count": 65
        }
      ]
    },
    {
      "cell_type": "code",
      "source": [
        "# Generating a random sample\n",
        "x = np.random.choice(['arun','ashok','ram'])\n",
        "x"
      ],
      "metadata": {
        "colab": {
          "base_uri": "https://localhost:8080/",
          "height": 35
        },
        "id": "ZtCLS3OOZz97",
        "outputId": "34357ad3-b25f-490f-ddcc-ef7914104fa6"
      },
      "execution_count": 67,
      "outputs": [
        {
          "output_type": "execute_result",
          "data": {
            "text/plain": [
              "'arun'"
            ],
            "application/vnd.google.colaboratory.intrinsic+json": {
              "type": "string"
            }
          },
          "metadata": {},
          "execution_count": 67
        }
      ]
    },
    {
      "cell_type": "code",
      "source": [
        "# Generating a random sample of size 2\n",
        "x = np.random.choice(['arun','ashok','ram'],size=2)\n",
        "x"
      ],
      "metadata": {
        "colab": {
          "base_uri": "https://localhost:8080/"
        },
        "id": "O1xi7-6CaRdX",
        "outputId": "dd9d0137-5dc9-4b57-9f0e-3842e15f6bc3"
      },
      "execution_count": 68,
      "outputs": [
        {
          "output_type": "execute_result",
          "data": {
            "text/plain": [
              "array(['arun', 'ashok'], dtype='<U5')"
            ]
          },
          "metadata": {},
          "execution_count": 68
        }
      ]
    },
    {
      "cell_type": "code",
      "source": [
        "# Generating a random sample of size 2 based on probability of occurence  \n",
        "x= np.random.choice(['arun','ashok','ram','guru','prasanth'],p=[0.4,0.2,0.2,0.1,0.1],size=4)\n",
        "x\n",
        "# Total probability should add upto 1"
      ],
      "metadata": {
        "colab": {
          "base_uri": "https://localhost:8080/"
        },
        "id": "WDa_3459aWWn",
        "outputId": "1f3126be-e09e-41b8-a825-f1f48a58d1bc"
      },
      "execution_count": 75,
      "outputs": [
        {
          "output_type": "execute_result",
          "data": {
            "text/plain": [
              "array(['ashok', 'arun', 'ram', 'ashok'], dtype='<U8')"
            ]
          },
          "metadata": {},
          "execution_count": 75
        }
      ]
    },
    {
      "cell_type": "code",
      "source": [
        "# Finding the index value based on condition\n",
        "w = np.where(x=='ashok')\n",
        "w\n",
        "# arun is found in 0th & 3rd positions"
      ],
      "metadata": {
        "colab": {
          "base_uri": "https://localhost:8080/"
        },
        "id": "mqVeJBqFa0ky",
        "outputId": "76c20871-f354-460d-836f-83689a71f9b1"
      },
      "execution_count": 77,
      "outputs": [
        {
          "output_type": "execute_result",
          "data": {
            "text/plain": [
              "(array([0, 3]),)"
            ]
          },
          "metadata": {},
          "execution_count": 77
        }
      ]
    },
    {
      "cell_type": "code",
      "source": [
        "# Creating one of the permutations of x\n",
        "x=np.array([5,6,7,8,9])\n",
        "np.random.shuffle(x)\n",
        "x"
      ],
      "metadata": {
        "colab": {
          "base_uri": "https://localhost:8080/"
        },
        "id": "f6tI7kvgbKqF",
        "outputId": "16daa586-f30b-44c8-932b-6efafbbff9fd"
      },
      "execution_count": 79,
      "outputs": [
        {
          "output_type": "execute_result",
          "data": {
            "text/plain": [
              "array([9, 8, 6, 5, 7])"
            ]
          },
          "metadata": {},
          "execution_count": 79
        }
      ]
    },
    {
      "cell_type": "code",
      "source": [
        "# Returning all possible permutations of size 2 as tuples\n",
        "import itertools as it\n",
        "per = it.permutations(x,2)\n",
        "for i in list(per):\n",
        "  print(i)\n",
        "# Position matters in a permutation & doesn't matter in combinations"
      ],
      "metadata": {
        "colab": {
          "base_uri": "https://localhost:8080/"
        },
        "id": "X42LhRMSbwGb",
        "outputId": "6af823a2-7351-402c-bb3c-ce69e77ac46d"
      },
      "execution_count": 92,
      "outputs": [
        {
          "output_type": "stream",
          "name": "stdout",
          "text": [
            "(0, 1)\n",
            "(0, 2)\n",
            "(0, 3)\n",
            "(0, 4)\n",
            "(0, 8)\n",
            "(1, 0)\n",
            "(1, 2)\n",
            "(1, 3)\n",
            "(1, 4)\n",
            "(1, 8)\n",
            "(2, 0)\n",
            "(2, 1)\n",
            "(2, 3)\n",
            "(2, 4)\n",
            "(2, 8)\n",
            "(3, 0)\n",
            "(3, 1)\n",
            "(3, 2)\n",
            "(3, 4)\n",
            "(3, 8)\n",
            "(4, 0)\n",
            "(4, 1)\n",
            "(4, 2)\n",
            "(4, 3)\n",
            "(4, 8)\n",
            "(8, 0)\n",
            "(8, 1)\n",
            "(8, 2)\n",
            "(8, 3)\n",
            "(8, 4)\n"
          ]
        }
      ]
    },
    {
      "cell_type": "code",
      "source": [
        "x=np.array([0,1,2,3,4,8])\n",
        "password = (8,4,2,1)\n",
        "per=it.permutations(x,4)\n",
        "# per is all possible permutaions of x with length 4"
      ],
      "metadata": {
        "id": "iRqRZ72kcgB0"
      },
      "execution_count": 89,
      "outputs": []
    },
    {
      "cell_type": "code",
      "source": [
        "# Finding the number of trials generated to find the password \n",
        "j = 0 \n",
        "for i in list(per):\n",
        "  if(i==password):\n",
        "    break\n",
        "  j=j+1\n",
        "print(j)"
      ],
      "metadata": {
        "colab": {
          "base_uri": "https://localhost:8080/"
        },
        "id": "hiaHT2YecuZA",
        "outputId": "dcca4bcb-40bf-4f9f-e52a-7fe1161cf986"
      },
      "execution_count": 90,
      "outputs": [
        {
          "output_type": "stream",
          "name": "stdout",
          "text": [
            "355\n"
          ]
        }
      ]
    },
    {
      "cell_type": "code",
      "source": [
        "x=np.array([0,1,2,3,4,9,8])\n",
        "com=it.combinations(x,5)\n",
        "for i in list(com):\n",
        "  print(i)\n",
        "# Combination will be lower in number compared to permutation as the position of values don't matter"
      ],
      "metadata": {
        "colab": {
          "base_uri": "https://localhost:8080/"
        },
        "id": "CRvJhtyEdYUy",
        "outputId": "f2cc2491-c97e-4bbb-b016-7870ee645190"
      },
      "execution_count": null,
      "outputs": [
        {
          "output_type": "stream",
          "name": "stdout",
          "text": [
            "(0, 1, 2, 3, 4)\n",
            "(0, 1, 2, 3, 9)\n",
            "(0, 1, 2, 3, 8)\n",
            "(0, 1, 2, 4, 9)\n",
            "(0, 1, 2, 4, 8)\n",
            "(0, 1, 2, 9, 8)\n",
            "(0, 1, 3, 4, 9)\n",
            "(0, 1, 3, 4, 8)\n",
            "(0, 1, 3, 9, 8)\n",
            "(0, 1, 4, 9, 8)\n",
            "(0, 2, 3, 4, 9)\n",
            "(0, 2, 3, 4, 8)\n",
            "(0, 2, 3, 9, 8)\n",
            "(0, 2, 4, 9, 8)\n",
            "(0, 3, 4, 9, 8)\n",
            "(1, 2, 3, 4, 9)\n",
            "(1, 2, 3, 4, 8)\n",
            "(1, 2, 3, 9, 8)\n",
            "(1, 2, 4, 9, 8)\n",
            "(1, 3, 4, 9, 8)\n",
            "(2, 3, 4, 9, 8)\n"
          ]
        }
      ]
    }
  ]
}